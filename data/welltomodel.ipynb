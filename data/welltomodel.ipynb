{
 "cells": [
  {
   "cell_type": "markdown",
   "metadata": {},
   "source": [
    "Read the well-log data `data.in` and produce three model files to be used in modeling:\n",
    "- A log sampled every i-th layer\n",
    "- A log after the backus average\n",
    "- A homogeneous model to subtract the direct wave"
   ]
  },
  {
   "cell_type": "code",
   "execution_count": 1,
   "metadata": {},
   "outputs": [],
   "source": [
    "import numpy as np\n",
    "import bruges as br #pip install bruges\n",
    "import matplotlib.pyplot as plt\n",
    "%matplotlib inline\n",
    "\n",
    "# free surface flag\n",
    "FS = '0'"
   ]
  },
  {
   "cell_type": "code",
   "execution_count": 2,
   "metadata": {},
   "outputs": [],
   "source": [
    "# read data in\n",
    "with open('data.in') as f:\n",
    "    array = []\n",
    "    for line in f: # read rest of lines\n",
    "        array.append([float(x) for x in line.split()])\n",
    "    array = np.array(array)"
   ]
  },
  {
   "cell_type": "code",
   "execution_count": 3,
   "metadata": {},
   "outputs": [],
   "source": [
    "h = np.diff(array[:,0])\n",
    "# set the first thickness (depth of the first boundary)\n",
    "h[0] = 800\n",
    "# add the last thickness (half-space)\n",
    "h = np.append(h,0)\n",
    "\n",
    "vp, vs, den = array[:,1:4].T"
   ]
  },
  {
   "cell_type": "code",
   "execution_count": 4,
   "metadata": {},
   "outputs": [],
   "source": [
    "# Assign attenuation parameters (isotropic linear solid)\n",
    "qp = 9999\n",
    "qs = 9999\n",
    "wc = 20\n",
    "\n",
    "qp = np.full((np.shape(vp)[0]),qp)\n",
    "qs = np.full((np.shape(vp)[0]),qs)\n",
    "wc = np.full((np.shape(vp)[0]),wc)\n",
    "\n",
    "# combine in a single matrix\n",
    "out = np.transpose(np.matrix([den, vp, vs, qp, qs, wc, h]))"
   ]
  },
  {
   "cell_type": "code",
   "execution_count": 5,
   "metadata": {},
   "outputs": [],
   "source": [
    "# sample every i-th layer to reduce the number of layers for computation efficiency \n",
    "sampling = 10\n",
    "out = out[0::int(sampling),:]\n",
    "\n",
    "# scale the individual layer thickness to keep roughly the same total thickness\n",
    "out[1:,-1] *= sampling"
   ]
  },
  {
   "cell_type": "code",
   "execution_count": 6,
   "metadata": {},
   "outputs": [],
   "source": [
    "# write to file full log\n",
    "fname = './well1/medium.txt'\n",
    "\n",
    "with open(fname,'w') as f:\n",
    "    f.write(FS+'\\n')\n",
    "with open(fname,'ab') as f:\n",
    "    for line in out:\n",
    "        np.savetxt(f, line, fmt='%.5f')"
   ]
  },
  {
   "cell_type": "code",
   "execution_count": 7,
   "metadata": {},
   "outputs": [],
   "source": [
    "# write to file one layer\n",
    "fname = './well2/medium.txt'\n",
    "\n",
    "with open(fname,'w') as f:\n",
    "    f.write(FS+'\\n')\n",
    "with open(fname,'ab') as f:\n",
    "    for line in out[0,:]:\n",
    "        np.savetxt(f, line, fmt='%.5f')\n",
    "        np.savetxt(f, line, fmt='%.5f')"
   ]
  },
  {
   "cell_type": "code",
   "execution_count": 6,
   "metadata": {},
   "outputs": [],
   "source": [
    "# Backus average the log using a window of length l\n",
    "l = 20\n",
    "[vpToB, vsToB, rhoToB] = [np.ndarray.flatten(np.array(out[1:,1])),np.ndarray.flatten(np.array(out[1:,2])),np.ndarray.flatten(np.array(out[1:,0]))]\n",
    "\n",
    "vpB, vsB, rhoB = br.rockphysics.backus(vpToB,vsToB,rhoToB,l,np.matrix.mean(out[1:,-1]))"
   ]
  },
  {
   "cell_type": "code",
   "execution_count": 7,
   "metadata": {},
   "outputs": [
    {
     "data": {
      "text/plain": [
       "[<matplotlib.lines.Line2D at 0x1ccad7a4358>]"
      ]
     },
     "execution_count": 7,
     "metadata": {},
     "output_type": "execute_result"
    },
    {
     "data": {
      "image/png": "[encoded data removed]",
      "text/plain": [
       "<Figure size 432x288 with 1 Axes>"
      ]
     },
     "metadata": {},
     "output_type": "display_data"
    }
   ],
   "source": [
    "# plot Backus-averaged and the original log\n",
    "plt.plot(vpB)\n",
    "plt.plot(out[1:,1])"
   ]
  },
  {
   "cell_type": "code",
   "execution_count": 49,
   "metadata": {},
   "outputs": [],
   "source": [
    "out[1:,0] = np.array([rhoB]).T\n",
    "out[1:,1] = np.array([vpB]).T\n",
    "out[1:,2] = np.array([vsB]).T"
   ]
  },
  {
   "cell_type": "code",
   "execution_count": 50,
   "metadata": {},
   "outputs": [],
   "source": [
    "# write to file\n",
    "fname = './well_backus/medium.txt'\n",
    "\n",
    "with open(fname,'w') as f:\n",
    "    f.write(FS+'\\n')\n",
    "with open(fname,'ab') as f:\n",
    "    for line in out:\n",
    "        np.savetxt(f, line, fmt='%.5f')"
   ]
  }
 ],
 "metadata": {
  "kernelspec": {
   "display_name": "Python 3",
   "language": "python",
   "name": "python3"
  },
  "language_info": {
   "codemirror_mode": {
    "name": "ipython",
    "version": 3
   },
   "file_extension": ".py",
   "mimetype": "text/x-python",
   "name": "python",
   "nbconvert_exporter": "python",
   "pygments_lexer": "ipython3",
   "version": "3.6.5"
  }
 },
 "nbformat": 4,
 "nbformat_minor": 2
}
