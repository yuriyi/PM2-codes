{
 "cells": [
  {
   "cell_type": "markdown",
   "metadata": {},
   "source": [
    "run `ipcluster start` prior to running the notebook if you want parallel functionality.\n",
    "\n",
    "alternatively, run `ipcluster nbextension enable` to enable the notebook extension\n",
    "\n",
    "requires `ipyparallel` package (`pip install ipyparallel`)"
   ]
  },
  {
   "cell_type": "code",
   "execution_count": 1,
   "metadata": {},
   "outputs": [],
   "source": [
    "import ipyparallel as ipp"
   ]
  },
  {
   "cell_type": "code",
   "execution_count": 2,
   "metadata": {},
   "outputs": [
    {
     "name": "stdout",
     "output_type": "stream",
     "text": [
      "Loading ThinLayer package\n"
     ]
    }
   ],
   "source": [
    "# import the package functions\n",
    "from ThinLayer import fkmod as tl\n",
    "import numpy as np\n",
    "import matplotlib.pyplot as plt\n",
    "%matplotlib inline\n",
    "from IPython.display import clear_output"
   ]
  },
  {
   "cell_type": "code",
   "execution_count": 3,
   "metadata": {},
   "outputs": [
    {
     "name": "stdout",
     "output_type": "stream",
     "text": [
      "importing numpy on engine(s)\n",
      "importing inv from numpy.linalg on engine(s)\n",
      "importing hankel on engine(s)\n",
      "importing HankelTransform from hankel on engine(s)\n",
      "importing special from scipy on engine(s)\n",
      "importing time on engine(s)\n",
      "importing sys on engine(s)\n",
      "importing InteractiveShell from IPython.core.interactiveshell on engine(s)\n",
      "importing fkmod from ThinLayer on engine(s)\n"
     ]
    }
   ],
   "source": [
    "c = ipp.Client()\n",
    "v=c[:]\n",
    "path = %pwd\n",
    "v['path'] = path\n",
    "\n",
    "# parallel dependencies\n",
    "with v.sync_imports():\n",
    "    import numpy\n",
    "    from numpy.linalg import inv\n",
    "    import hankel\n",
    "    from hankel import HankelTransform\n",
    "    from scipy import special\n",
    "    import time, sys\n",
    "    %px sys.path.append(path)\n",
    "    from ThinLayer import fkmod\n",
    "    \n",
    "%px np = numpy\n",
    "%px scs = special\n",
    "%px tl = fkmod"
   ]
  },
  {
   "cell_type": "markdown",
   "metadata": {},
   "source": [
    "# Numerical example"
   ]
  },
  {
   "cell_type": "markdown",
   "metadata": {},
   "source": [
    "Define another dictionary `model` to store the model/modeling parameters: layers, thickness, source and receiver depths, source frequency, frequency and offset vector, number of integration points\n",
    "\n",
    "Define dictionary `layer` assigning a layer label with fixed, potentially complex elastic constants and density. The elastic constants correspond to an VTI medium and are to be given in order ($c_{11}, c_{13}, c_{33}, c_{44}, \\rho$)."
   ]
  },
  {
   "cell_type": "code",
   "execution_count": 4,
   "metadata": {},
   "outputs": [],
   "source": [
    "layers={\n",
    "    \"layer 1\":(22.56, 12.38, 17.35, 3.15, 2.38),\n",
    "    \"layer 2\":(26.73, 12.51, 26.73, 7.11, 2.22),\n",
    "    \"layer 3\":(11.25, 6.066, 11.25, 2.592, 1.8),\n",
    "    \"layer 4\":(11.25 + 1j, 6.066, 26.25, 2.592, 1.8),\n",
    "    \"layer 5\":(11.25 + 1j, 2.066, 19.25, 2.592, 1.8),\n",
    "    \"layer 6\":(11.25 + 1j, 6.066, 23.25, 2.592, 1.8)\n",
    "};\n",
    "\n",
    "model={\n",
    "    \"layers\": layers,\n",
    "    \"model_layers\": (['layer 2', 'layer 1', 'layer 2']),\n",
    "    \"model_thickness\":  [1,.4,1],\n",
    "    \"zSource\":.4,\n",
    "    \"zReceiver\":.8,\n",
    "    \"srcw\": 15,\n",
    "    \"omega\": 2*np.pi*np.arange(0.5,50.5,0.5),\n",
    "    \"r\": np.arange(0.05,2.05,0.05),\n",
    "    \"nslow\": 100\n",
    "}"
   ]
  },
  {
   "cell_type": "markdown",
   "metadata": {},
   "source": [
    "## Parallel tests\n",
    "Run to see if `ipyparallel` works"
   ]
  },
  {
   "cell_type": "code",
   "execution_count": 5,
   "metadata": {},
   "outputs": [
    {
     "name": "stdout",
     "output_type": "stream",
     "text": [
      "Sequential time: 9.00666880607605 sec\n"
     ]
    }
   ],
   "source": [
    "zSeq, omega, r, elapsed = tl.FKmodeling(model)\n",
    "print('Sequential time: '+str(elapsed)+' sec')"
   ]
  },
  {
   "cell_type": "code",
   "execution_count": 6,
   "metadata": {},
   "outputs": [
    {
     "name": "stdout",
     "output_type": "stream",
     "text": [
      "Parallel time: 4.575934886932373 sec\n"
     ]
    }
   ],
   "source": [
    "zPar, _, _, elapsed = tl.FKmodeling_par(v, model)\n",
    "print('Parallel time: '+str(elapsed)+' sec')"
   ]
  },
  {
   "cell_type": "markdown",
   "metadata": {},
   "source": [
    "## Simple shot gather"
   ]
  },
  {
   "cell_type": "code",
   "execution_count": 7,
   "metadata": {},
   "outputs": [],
   "source": [
    "#number of integration points\n",
    "model['nslow'] = 1000\n",
    "# get the gather in f-r domain\n",
    "gatherF, omega, r, _ = tl.FKmodeling_par(v, model)\n",
    "\n",
    "# transform the gather into t-r domain\n",
    "gather = np.array([tl.ftot(gatherF[i],omega,model['srcw'])[1] for i in range(len(gatherF))])\n",
    "taxis = tl.ftot(gatherF[1],omega)[0]"
   ]
  },
  {
   "cell_type": "code",
   "execution_count": 8,
   "metadata": {},
   "outputs": [
    {
     "data": {
      "text/plain": [
       "(1, 0)"
      ]
     },
     "execution_count": 8,
     "metadata": {},
     "output_type": "execute_result"
    },
    {
     "data": {
      "image/png": "[encoded data removed]",
      "text/plain": [
       "<Figure size 640x480 with 1 Axes>"
      ]
     },
     "metadata": {},
     "output_type": "display_data"
    }
   ],
   "source": [
    "drange = [np.amin(r), np.amax(r), np.amax(taxis), np.amin(taxis)];\n",
    "vm = np.percentile(gather, 99)\n",
    "\n",
    "plt.figure(figsize=(8, 6), dpi= 80)\n",
    "plt.imshow(gather.T, cmap=\"Greys\", vmin=-vm, vmax=vm, aspect='auto', extent=drange)\n",
    "plt.ylim([1,0])"
   ]
  },
  {
   "cell_type": "markdown",
   "metadata": {},
   "source": [
    "## Hankel transfrom test (number of integration points)\n",
    "*long computations, don't run*"
   ]
  },
  {
   "cell_type": "code",
   "execution_count": null,
   "metadata": {},
   "outputs": [],
   "source": [
    "model['nslow'] = 3000\n",
    "# get reference gather in f-r domain\n",
    "gatherF, omega, r, elapsed0 = tl.FKmodeling_par(v, model)\n",
    "\n",
    "# transform the gather into t-r domain\n",
    "gather0 = np.array([tl.ftot(gatherF[i],omega,model['srcw'])[1] for i in range(len(gatherF))])\n",
    "taxis = tl.ftot(gatherF[1],omega)[0]"
   ]
  },
  {
   "cell_type": "code",
   "execution_count": null,
   "metadata": {},
   "outputs": [],
   "source": [
    "# vector of cases to compare against the reference (3000 pts.)\n",
    "Npts = np.arange(100,2100,100)\n",
    "\n",
    "error = []\n",
    "timevec = []\n",
    "for i, nslow in enumerate(Npts):\n",
    "    print('i = '+str(i+1)+' of '+str(len(Npts)))\n",
    "    model[\"nslow\"] = nslow\n",
    "    gatherF, _, _, elapsed = tl.FKmodeling_par(v, model)\n",
    "    timevec.append(elapsed)\n",
    "    gather = np.array([tl.ftot(gatherF[i],omega,model['srcw'])[1] for i in range(len(gatherF))])\n",
    "    error.append(np.sum(np.abs(gather - gather0)))\n",
    "    clear_output(wait = True)"
   ]
  },
  {
   "cell_type": "code",
   "execution_count": null,
   "metadata": {},
   "outputs": [],
   "source": [
    "fig, ax1 = plt.subplots(figsize=(8, 6))\n",
    "\n",
    "ax1.plot(Npts, error, 'b-')\n",
    "ax1.set_ylabel('absolute error (compared to 3000 points)', color='b')\n",
    "ax1.set_xlabel('number of integration points')\n",
    "ax1.tick_params('y', colors='b')\n",
    "ax1.grid(True)\n",
    "ax2 = ax1.twinx()\n",
    "ax2.plot(Npts, timevec, 'r.')\n",
    "ax2.set_ylabel('time (s)', color='r')\n",
    "ax2.tick_params('y', colors='r')\n",
    "\n",
    "fig.tight_layout()\n",
    "plt.show()"
   ]
  },
  {
   "cell_type": "markdown",
   "metadata": {},
   "source": [
    "## Hankel transfrom test (number of layers)\n",
    "*long computations, don't run*"
   ]
  },
  {
   "cell_type": "code",
   "execution_count": null,
   "metadata": {},
   "outputs": [],
   "source": [
    "Ncases = 12\n",
    "model['nslow'] = 100\n",
    "model['model_layers'] = ['layer 2', 'layer 1']\n",
    "model['model_thickness'] = [1,1]\n",
    "\n",
    "timevec = []\n",
    "gathers = []\n",
    "for i in range(Ncases):\n",
    "    if i % 2 ==0:\n",
    "        model['model_layers'].append('layer 2')\n",
    "    else:\n",
    "        model['model_layers'].append('layer 1')\n",
    "    print('i = '+str(i+1)+' of '+str(Ncases))\n",
    "    model['model_thickness'].insert(-1,0.1 + 0.1 *np.random.random())\n",
    "        \n",
    "    gatherF, omega, r, elapsed = tl.FKmodeling_par(v, model)\n",
    "    timevec.append(elapsed)\n",
    "    gather = np.array([tl.ftot(gatherF[i],omega,model['srcw'])[1] for i in range(len(gatherF))])\n",
    "    gathers.append(gather)\n",
    "    clear_output(wait = True)"
   ]
  },
  {
   "cell_type": "code",
   "execution_count": null,
   "metadata": {},
   "outputs": [],
   "source": [
    "fig, ax1 = plt.subplots(figsize=(8, 6))\n",
    "\n",
    "ax1.plot(np.arange(Ncases)+2, timevec, 'b--')\n",
    "ax1.set_ylabel('time (s)', color='b')\n",
    "ax1.set_xlabel('number of layers')\n",
    "ax1.tick_params('y', colors='b')\n",
    "ax1.grid(True)\n",
    "ax2 = ax1.twinx()\n",
    "ax2.plot(np.arange(Ncases)+2, timevec, 'r.')\n",
    "ax2.set_ylabel('time (s), log scale', color='r')\n",
    "ax2.tick_params('y', colors='r')\n",
    "ax2.set_yscale('log')\n",
    "fig.tight_layout()\n",
    "plt.show()"
   ]
  }
 ],
 "metadata": {
  "kernelspec": {
   "display_name": "Python 3",
   "language": "python",
   "name": "python3"
  },
  "language_info": {
   "codemirror_mode": {
    "name": "ipython",
    "version": 3
   },
   "file_extension": ".py",
   "mimetype": "text/x-python",
   "name": "python",
   "nbconvert_exporter": "python",
   "pygments_lexer": "ipython3",
   "version": "3.6.5"
  }
 },
 "nbformat": 4,
 "nbformat_minor": 2
}
