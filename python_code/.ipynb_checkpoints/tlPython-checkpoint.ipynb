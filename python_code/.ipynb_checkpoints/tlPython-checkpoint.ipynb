{
 "cells": [
  {
   "cell_type": "code",
   "execution_count": 1,
   "metadata": {},
   "outputs": [],
   "source": [
    "import numpy as np\n",
    "from numpy.linalg import inv\n",
    "import timeit"
   ]
  },
  {
   "cell_type": "markdown",
   "metadata": {},
   "source": [
    "Define dictionary `layer` assigning a layer label with fixed, potentially complex elastic constants and density. The elastic constants correspond to an VTI medium and are to be given in order ($c_{11}, c_{13}, c_{33}, c_{44}, \\rho$)"
   ]
  },
  {
   "cell_type": "code",
   "execution_count": 2,
   "metadata": {},
   "outputs": [],
   "source": [
    "layers={\n",
    "    \"layer 1\":(22.56, 12.38, 17.35, 3.15, 2.38),\n",
    "    \"layer 2\":(26.73, 12.51, 26.73, 7.11, 2.22),\n",
    "    \"layer 3\":(11.25, 6.066, 11.25, 2.592, 1.8),\n",
    "    \"layer 4\":(11.25 + 1j, 6.066, 26.25, 2.592, 1.8),\n",
    "    \"layer 5\":(11.25 + 1j, 2.066, 19.25, 2.592, 1.8),\n",
    "    \"layer 6\":(11.25 + 1j, 6.066, 23.25, 2.592, 1.8)\n",
    "};"
   ]
  },
  {
   "cell_type": "code",
   "execution_count": 3,
   "metadata": {
    "scrolled": true
   },
   "outputs": [
    {
     "data": {
      "text/plain": [
       "(26.73, 12.51, 26.73, 7.11, 2.22)"
      ]
     },
     "execution_count": 3,
     "metadata": {},
     "output_type": "execute_result"
    }
   ],
   "source": [
    "layers[\"layer 2\"]"
   ]
  },
  {
   "cell_type": "code",
   "execution_count": 4,
   "metadata": {},
   "outputs": [],
   "source": [
    "def tlQLmatrices(layer, p):\n",
    "    # based on Ursin and Stovas, Geophysics (2003)\n",
    "    [c11, c13, c33, c44, d]=layers[layer];\n",
    "    a0 = np.sqrt(c33/d);\n",
    "    b0 = np.sqrt(c44/d);\n",
    "    s0 = 1-c44/c33;\n",
    "    dD = (c13 - c33 + 2*c44)/c33;\n",
    "    eta = (c11*c33 - (c13 + 2*c44)**2)/(2*c33**2);\n",
    "    R1 = 2*(1 - p**2*b0**2)*(dD + 2*p**2*a0**2*eta)**2;\n",
    "    R2 = s0 + 2*p**2*b0**2*dD - 2*p**2*a0**2*(1 - 2*p**2*b0**2)*eta;\n",
    "    R = R1/(R2 + np.sqrt(R2**2 + 2*p**2*b0**2*R1));\n",
    "    Sa = 2*dD + 2*p**2*a0**2*eta + R\n",
    "    Sb = 2*(1 - p**2*b0**2)*a0**2/b0**2*eta - R\n",
    "    q1 = 1/a0**2 - p**2 - p**2*Sa;\n",
    "    q2 = 1/b0**2 - p**2 - p**2*Sb;\n",
    "    qa = np.sqrt(q1.real + 1j*abs(q1.imag));\n",
    "    qb = np.sqrt(q2.real + 1j*abs(q2.imag));\n",
    "    \n",
    "    d2 = np.sqrt((s0 + dD)/(s0 + Sa));\n",
    "    d3 = 2*b0**2*(s0 + \n",
    "     1/2*(Sa + dD))/(s0 + dD);\n",
    "    d4 = np.sqrt((s0 - p**2*b0**2*(s0 + Sb))/((1 - p**2*b0**2*(1 + Sb))*(s0 + dD)));\n",
    "    d5 = (s0 - 2*p**2*b0**2*(s0 + 1/2*(Sb + dD)))/(s0 + dD);\n",
    "    d1 = 1/np.sqrt(p**2*d3 + d5);\n",
    "    L1 = d1*np.array([[d2*np.sqrt(qa/d), 1/d4*p/np.sqrt(d*qb)],\n",
    "                      [d3*d2*p*np.sqrt(d*qa), -d5/d4*np.sqrt(d/qb)]\n",
    "                     ], dtype = np.complex_);\n",
    "    L2 = d1*np.array([[d5/d2*np.sqrt(d/qa), d3*d4*p*np.sqrt(d*qb)],\n",
    "                      [1/d2*p/np.sqrt(d*qa), -d4*np.sqrt(qb/d)]\n",
    "                     ], dtype = np.complex_);\n",
    "    return(np.array([np.diagflat([qa,qb]),L1,L2]))\n"
   ]
  },
  {
   "cell_type": "code",
   "execution_count": 5,
   "metadata": {},
   "outputs": [
    {
     "data": {
      "text/plain": [
       "array([[[ 0.35418607+0.j,  0.        +0.j],\n",
       "        [ 0.        +0.j,  0.85905696+0.j]],\n",
       "\n",
       "       [[ 0.38519236+0.j,  0.07693826+0.j],\n",
       "        [ 0.25570415+0.j, -1.60740115+0.j]],\n",
       "\n",
       "       [[ 2.516156  +0.j,  0.40026818+0.j],\n",
       "        [ 0.12043581+0.j, -0.6029634 +0.j]]])"
      ]
     },
     "execution_count": 5,
     "metadata": {},
     "output_type": "execute_result"
    }
   ],
   "source": [
    "tlQLmatrices(\"layer 1\", .1)"
   ]
  },
  {
   "cell_type": "code",
   "execution_count": 6,
   "metadata": {},
   "outputs": [],
   "source": [
    "def tlLayerReflectionTransmission(layer1, layer2, p):\n",
    "    # based on Ursin and Stovas, Geophysics (2002)\n",
    "    # no need to use slownesses. Get the L matrices only\n",
    "    # and use equations B-1, B-2 to calculate T, R\n",
    "    [L1t, L2t] = tlQLmatrices(layer1, p)[1:5];\n",
    "    [L1b, L2b] = tlQLmatrices(layer2, p)[1:5];\n",
    "    \n",
    "    # C and D as defined in eq. B-2\n",
    "    C = np.dot(L2t.T, L1b);\n",
    "    D = np.dot(L1t.T, L2b);\n",
    "    \n",
    "    # Reflection and transmission matrices of a single interface\n",
    "    trans = 2*inv(C + D)\n",
    "    refl = np.dot((C-D),trans/2)\n",
    "    \n",
    "    return(np.array([trans,refl]))"
   ]
  },
  {
   "cell_type": "code",
   "execution_count": 7,
   "metadata": {},
   "outputs": [
    {
     "data": {
      "text/plain": [
       "array([[[ 0.97989791+0.j,  0.01004981+0.j],\n",
       "        [-0.01690589+0.j,  0.99439359+0.j]],\n",
       "\n",
       "       [[ 0.18750511+0.j,  0.06600089+0.j],\n",
       "        [ 0.06600089+0.j, -0.08200169+0.j]]])"
      ]
     },
     "execution_count": 7,
     "metadata": {},
     "output_type": "execute_result"
    }
   ],
   "source": [
    "tlLayerReflectionTransmission(\"layer 1\",\"layer 3\",.2)"
   ]
  },
  {
   "cell_type": "code",
   "execution_count": 24,
   "metadata": {},
   "outputs": [],
   "source": [
    " def tlReflectivity(layers, thicknesses, p, w):\n",
    "    # based on Ursin and Stovas, Geophysics (2002)\n",
    "    # Recursion is eq. 20\n",
    "    n_of_layers = len(layers)-1;\n",
    "    \n",
    "    # QL matrices for layer stack\n",
    "    QL = [tlQLmatrices(i,p) for i in layers];\n",
    "    \n",
    "    # Pairwise reflection transmission for layer stack\n",
    "    RT = [tlLayerReflectionTransmission(layers[i],layers[i+1], p) for i in range(n_of_layers)]\n",
    "    \n",
    "    # Phase propagator for layer stack\n",
    "    phase = [np.diagflat(np.exp(1j*w*i[0]*np.diag(i[1]))) for i in zip(thicknesses,[item[0] for item in QL])]\n",
    "    \n",
    "    # Recursive calculation of reflection response\n",
    "    def rec(n):\n",
    "        if n == n_of_layers-1:\n",
    "            return(np.zeros(shape=(2,2), dtype=np.complex_))\n",
    "        else:\n",
    "            inv_mat = inv(np.identity(2, dtype=np.complex_) + np.dot(RT[n+1][1],rec(n+1)))\n",
    "            inv_t = np.dot(np.transpose(RT[n+1][0]) , np.dot(rec(n+1) , np.dot(inv_mat , RT[n+1][0])))\n",
    "            return(np.dot(np.dot(phase[n + 1],RT[n + 1][1] + inv_t),phase[n + 1])\n",
    "            )\n",
    "    return(rec(-1))"
   ]
  },
  {
   "cell_type": "code",
   "execution_count": 79,
   "metadata": {},
   "outputs": [],
   "source": [
    "def tlResponseVforce(layers, thicknesses, p, w, zSource, zReceiver):\n",
    "    # QL matrices of the upper half-space\n",
    "    QLtop = tlQLmatrices(layers[0],p);\n",
    "    \n",
    "    # phase due to the source\n",
    "    phaseSource = np.diagflat(np.exp(-1j*w*zSource*np.diag(QLtop[0])));\n",
    "    phaseReceiver = np.diagflat(np.exp(1j*w*zReceiver*np.diag(QLtop[0])));\n",
    "    \n",
    "    # vertical force\n",
    "    vforce = np.array([1/w,0]);\n",
    "    \n",
    "    # source discontinuity vector\n",
    "    Sigma = 1/np.sqrt(2) * np.dot(QLtop[1].T, vforce);\n",
    "    \n",
    "    # receiver-adjusted reflectivity\n",
    "    refReceiver = np.dot(np.dot(phaseReceiver,tlReflectivity(layers, thicknesses, p, w)), phaseReceiver)\n",
    "    \n",
    "    # wavefield vector\n",
    "    u = np.dot(np.dot(refReceiver, phaseSource), Sigma );\n",
    "    \n",
    "    # displacement vector\n",
    "    b = 1/np.sqrt(2) * w * np.array([1j * np.dot(QLtop[1], u)[0], np.dot(QLtop[2], u)[1]])\n",
    "    \n",
    "    return(b)\n",
    "    "
   ]
  },
  {
   "cell_type": "code",
   "execution_count": null,
   "metadata": {},
   "outputs": [],
   "source": [
    "def tlDHTR():\n",
    "    # or use https://pypi.org/project/hankel/"
   ]
  },
  {
   "cell_type": "code",
   "execution_count": null,
   "metadata": {},
   "outputs": [],
   "source": [
    "timeit.timeit('[tlReflectivity([\"layer 1\",\"layer 2\", \"layer 5\", \"layer 2\", \"layer 5\",  \"layer 3\",\"layer 6\"],[3,2,5,4,3,4,12],0.2,i) for i in range(100)]', 'from __main__ import tlReflectivity, tlQLmatrices, layers', number=100)"
   ]
  },
  {
   "cell_type": "code",
   "execution_count": 80,
   "metadata": {},
   "outputs": [
    {
     "name": "stdout",
     "output_type": "stream",
     "text": [
      "[[-0.06016787-0.01124309j -0.07998583+0.18117651j]\n",
      " [-0.07998583+0.18117651j  0.15784311+0.01252011j]]\n",
      "[-0.00073323+0.00354917j  0.02088923-0.02100579j]\n"
     ]
    }
   ],
   "source": [
    "model_layers = [\"layer 1\",\"layer 2\", \"layer 5\", \"layer 2\", \"layer 5\", \"layer 3\",\"layer 6\"];\n",
    "model_thickness = [3,2,5,4,3,4,12];\n",
    "w = 2 * np.pi * 10;\n",
    "zSource = 5;\n",
    "zReceiver = 15;\n",
    "p = 0.2;\n",
    "\n",
    "print(tlReflectivity(model_layers,model_thickness,p,w))\n",
    "\n",
    "print(tlResponseVforce(model_layers,model_thickness,p,w,zSource,zReceiver))"
   ]
  }
 ],
 "metadata": {
  "kernelspec": {
   "display_name": "Python 3",
   "language": "python",
   "name": "python3"
  },
  "language_info": {
   "codemirror_mode": {
    "name": "ipython",
    "version": 3
   },
   "file_extension": ".py",
   "mimetype": "text/x-python",
   "name": "python",
   "nbconvert_exporter": "python",
   "pygments_lexer": "ipython3",
   "version": "3.6.5"
  }
 },
 "nbformat": 4,
 "nbformat_minor": 2
}
