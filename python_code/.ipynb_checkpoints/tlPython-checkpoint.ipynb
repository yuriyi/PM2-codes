{
 "cells": [
  {
   "cell_type": "code",
   "execution_count": 1,
   "metadata": {},
   "outputs": [],
   "source": [
    "import numpy as np\n",
    "from numpy.linalg import inv\n",
    "import timeit\n",
    "import hankel\n",
    "from hankel import HankelTransform\n",
    "import matplotlib.pyplot as plt\n",
    "%matplotlib inline\n",
    "\n",
    "import scipy.special as scs"
   ]
  },
  {
   "cell_type": "markdown",
   "metadata": {},
   "source": [
    "# Functions"
   ]
  },
  {
   "cell_type": "code",
   "execution_count": 2,
   "metadata": {},
   "outputs": [],
   "source": [
    "## vertical slowness and transformation matrices\n",
    "\n",
    "def tlQLmatrices(layer, p):\n",
    "    # based on Ursin and Stovas, Geophysics (2003)\n",
    "    [c11, c13, c33, c44, d]=layers[layer];\n",
    "    a0 = np.sqrt(c33/d);\n",
    "    b0 = np.sqrt(c44/d);\n",
    "    s0 = 1-c44/c33;\n",
    "    dD = (c13 - c33 + 2*c44)/c33;\n",
    "    eta = (c11*c33 - (c13 + 2*c44)**2)/(2*c33**2);\n",
    "    R1 = 2*(1 - p**2*b0**2)*(dD + 2*p**2*a0**2*eta)**2;\n",
    "    R2 = s0 + 2*p**2*b0**2*dD - 2*p**2*a0**2*(1 - 2*p**2*b0**2)*eta;\n",
    "    R = R1/(R2 + np.sqrt(R2**2 + 2*p**2*b0**2*R1));\n",
    "    Sa = 2*dD + 2*p**2*a0**2*eta + R\n",
    "    Sb = 2*(1 - p**2*b0**2)*a0**2/b0**2*eta - R\n",
    "    q1 = 1/a0**2 - p**2 - p**2*Sa;\n",
    "    q2 = 1/b0**2 - p**2 - p**2*Sb;\n",
    "    qa = np.sqrt(q1.real + 1j*abs(q1.imag));\n",
    "    qb = np.sqrt(q2.real + 1j*abs(q2.imag));\n",
    "    \n",
    "    d2 = np.sqrt((s0 + dD)/(s0 + Sa));\n",
    "    d3 = 2*b0**2*(s0 + \n",
    "     1/2*(Sa + dD))/(s0 + dD);\n",
    "    d4 = np.sqrt((s0 - p**2*b0**2*(s0 + Sb))/((1 - p**2*b0**2*(1 + Sb))*(s0 + dD)));\n",
    "    d5 = (s0 - 2*p**2*b0**2*(s0 + 1/2*(Sb + dD)))/(s0 + dD);\n",
    "    d1 = 1/np.sqrt(p**2*d3 + d5);\n",
    "    L1 = d1*np.array([[d2*np.sqrt(qa/d), 1/d4*p/np.sqrt(d*qb)],\n",
    "                      [d3*d2*p*np.sqrt(d*qa), -d5/d4*np.sqrt(d/qb)]\n",
    "                     ], dtype = np.complex_);\n",
    "    L2 = d1*np.array([[d5/d2*np.sqrt(d/qa), d3*d4*p*np.sqrt(d*qb)],\n",
    "                      [1/d2*p/np.sqrt(d*qa), -d4*np.sqrt(qb/d)]\n",
    "                     ], dtype = np.complex_);\n",
    "    return(np.array([np.diagflat([qa,qb]),L1,L2]))\n",
    "\n",
    "\n",
    "## reflection and transmission coefficients for a single interface\n",
    "def tlLayerReflectionTransmission(layer1, layer2, p):\n",
    "    # based on Ursin and Stovas, Geophysics (2002)\n",
    "    # no need to use slownesses. Get the L matrices only\n",
    "    # and use equations B-1, B-2 to calculate T, R\n",
    "    [L1t, L2t] = tlQLmatrices(layer1, p)[1:5];\n",
    "    [L1b, L2b] = tlQLmatrices(layer2, p)[1:5];\n",
    "    \n",
    "    # C and D as defined in eq. B-2\n",
    "    C = np.dot(L2t.T, L1b);\n",
    "    D = np.dot(L1t.T, L2b);\n",
    "    \n",
    "    # Reflection and transmission matrices of a single interface\n",
    "    trans = 2*inv(C + D)\n",
    "    refl = np.dot((C-D),trans/2)\n",
    "    \n",
    "    return(np.array([trans,refl]))\n",
    "\n",
    "## stack reflectivity\n",
    "def tlReflectivity(layers, thicknesses, p, w):\n",
    "    # based on Ursin and Stovas, Geophysics (2002)\n",
    "    # Recursion is eq. 20\n",
    "    n_of_layers = len(layers)-1;\n",
    "    \n",
    "    # set thickness of the upper half-space to 0\n",
    "    thicknesses[0] = 0;\n",
    "    \n",
    "    # QL matrices for layer stack\n",
    "    QL = [tlQLmatrices(i,p) for i in layers];\n",
    "    \n",
    "    # Pairwise reflection transmission for layer stack\n",
    "    RT = [tlLayerReflectionTransmission(layers[i],layers[i+1], p) for i in range(n_of_layers)]\n",
    "    \n",
    "    # Phase propagator for layer stack\n",
    "    phase = [np.diagflat(np.exp(1j*w*i[0]*np.diag(i[1]))) for i in zip(thicknesses,[item[0] for item in QL])]\n",
    "    \n",
    "    # Recursive calculation of reflection response\n",
    "    def rec(n):\n",
    "        if n == n_of_layers-1:\n",
    "            return(np.zeros(shape=(2,2), dtype=np.complex_))\n",
    "        else:\n",
    "            inv_mat = inv(np.identity(2, dtype=np.complex_) + np.dot(RT[n+1][1],rec(n+1)))\n",
    "            inv_t = np.dot(np.transpose(RT[n+1][0]) , np.dot(rec(n+1) , np.dot(inv_mat , RT[n+1][0])))\n",
    "            return(np.dot(np.dot(phase[n + 1],RT[n + 1][1] + inv_t),phase[n + 1]))\n",
    "    return(rec(-1))\n",
    "\n",
    "## response due to a vertical source\n",
    "def tlResponseVforce(layers, thicknesses, p, w, zSource, zReceiver):\n",
    "    # QL matrices of the upper half-space\n",
    "    QLtop = tlQLmatrices(layers[0],p);\n",
    "    \n",
    "    # phase due to the source\n",
    "    phaseSource = np.diagflat(np.exp(-1j*w*zSource*np.diag(QLtop[0])));\n",
    "    phaseReceiver = np.diagflat(np.exp(1j*w*zReceiver*np.diag(QLtop[0])));\n",
    "    \n",
    "    # vertical force\n",
    "    vforce = np.array([1/w,0]);\n",
    "    \n",
    "    # source discontinuity vector\n",
    "    Sigma = 1/np.sqrt(2) * np.dot(QLtop[1].T, vforce);\n",
    "    \n",
    "    # receiver-adjusted reflectivity\n",
    "    refReceiver = np.dot(np.dot(phaseReceiver,tlReflectivity(layers, thicknesses, p, w)), phaseReceiver)\n",
    "    \n",
    "    # wavefield vector\n",
    "    u = np.dot(np.dot(refReceiver, phaseSource), Sigma );\n",
    "    \n",
    "    # displacement vector\n",
    "    b = 1/np.sqrt(2) * w * np.array([1j * np.dot(QLtop[1], u)[0], np.dot(QLtop[2], u)[1]])\n",
    "    \n",
    "    return(b)\n",
    "    \n",
    "\n",
    "## critical horizontal slowness\n",
    "def getpmax(layers,model):\n",
    "    phor = [np.real(np.sqrt(layers[x][4]/layers[x][3])) for x in model]\n",
    "    return max(phor)\n",
    "\n",
    "## discrete Hankel transfrom\n",
    "def tlDHTR(f, nu, offsets, rmax, jzero):\n",
    "    vec = jzero * np.pi / jzero[-1];\n",
    "    scorrection = np.sin(vec)/vec;\n",
    "    dhtlist = 2/(rmax **2 * scs.jv(nu+1, jzero) **2);\n",
    "    return [np.dot(scorrection * dhtlist * f, scs.jv(nu, jzero * r/rmax)) for r in offsets]\n",
    "\n",
    "## Ricker wavelet\n",
    "def ricker(w,wp,dt=0):\n",
    "    return (2* w**2)/(np.sqrt(np.pi)* wp**3)* np.exp(-w**2/wp**2) * np.exp(-1j * dt* w)\n",
    "\n",
    "## f-t trace transfrom\n",
    "def ftot(tresp,omega,w0 = 25):\n",
    "    src = ricker(omega,2*np.pi*w0)\n",
    "    taxis = np.arange(2*len(omega)+1)/(omega[1]/2/np.pi)/(2*len(omega))\n",
    "    traceSrc = tresp * src #* (1j* omega) ** 2\n",
    "    tracef = np.concatenate(([0],traceSrc,np.conj(np.flip(traceSrc,0))))\n",
    "    return taxis, np.real(np.fft.fft(tracef))"
   ]
  },
  {
   "cell_type": "markdown",
   "metadata": {},
   "source": [
    "# Numerical example"
   ]
  },
  {
   "cell_type": "markdown",
   "metadata": {},
   "source": [
    "Define dictionary `layer` assigning a layer label with fixed, potentially complex elastic constants and density. The elastic constants correspond to an VTI medium and are to be given in order ($c_{11}, c_{13}, c_{33}, c_{44}, \\rho$)"
   ]
  },
  {
   "cell_type": "code",
   "execution_count": 3,
   "metadata": {},
   "outputs": [],
   "source": [
    "layers={\n",
    "    \"layer 1\":(22.56, 12.38, 17.35, 3.15, 2.38),\n",
    "    \"layer 2\":(26.73, 12.51, 26.73, 7.11, 2.22),\n",
    "    \"layer 3\":(11.25, 6.066, 11.25, 2.592, 1.8),\n",
    "    \"layer 4\":(11.25 + 1j, 6.066, 26.25, 2.592, 1.8),\n",
    "    \"layer 5\":(11.25 + 1j, 2.066, 19.25, 2.592, 1.8),\n",
    "    \"layer 6\":(11.25 + 1j, 6.066, 23.25, 2.592, 1.8)\n",
    "};"
   ]
  },
  {
   "cell_type": "markdown",
   "metadata": {},
   "source": [
    "Define the model, source and receiver depths"
   ]
  },
  {
   "cell_type": "code",
   "execution_count": 4,
   "metadata": {},
   "outputs": [
    {
     "name": "stdout",
     "output_type": "stream",
     "text": [
      "[[-0.01758104+0.j  0.1121913 +0.j]\n",
      " [ 0.1121913 +0.j -0.05253047+0.j]]\n",
      "[ 0.0040618 +0.00400892j -0.00774489-0.00097356j]\n"
     ]
    }
   ],
   "source": [
    "model_layers = [\"layer 2\",\"layer 1\"];\n",
    "model_thickness = [1,2];\n",
    "zSource = .4;\n",
    "zReceiver = .8;\n",
    "w = 2 * np.pi * 10;\n",
    "p = 0.2;\n",
    "\n",
    "print(tlReflectivity(model_layers,model_thickness,p,w))\n",
    "print(tlResponseVforce(model_layers,model_thickness,p,w,zSource,zReceiver))"
   ]
  },
  {
   "cell_type": "code",
   "execution_count": 21,
   "metadata": {},
   "outputs": [
    {
     "name": "stdout",
     "output_type": "stream",
     "text": [
      "CPU times: user 24min 30s, sys: 7.71 s, total: 24min 38s\n",
      "Wall time: 25min 12s\n"
     ]
    },
    {
     "data": {
      "image/png": "[encoded data removed]",
      "text/plain": [
       "<Figure size 960x480 with 2 Axes>"
      ]
     },
     "metadata": {},
     "output_type": "display_data"
    }
   ],
   "source": [
    "%%time\n",
    "# get critical slowness (integration limit)\n",
    "pmax = 1.05*getpmax(layers,model_layers)\n",
    "# number of integration points\n",
    "nslow = 3000\n",
    "# Zeroes of the Bessel function (components are 0: Z, 1: R )\n",
    "jzeros = np.array([scs.jn_zeros(0,nslow), scs.jn_zeros(1,nslow)]);\n",
    "\n",
    "# functions to transform (u[0] - Z, u[1] - R)\n",
    "def u(k,w,pI=0.001): return tlResponseVforce(model_layers,model_thickness,k/w - pI*1j,w,zSource,zReceiver)\n",
    "\n",
    "# example plots\n",
    "w = 2 * np.pi * 5\n",
    "slow = jzeros[0]*pmax/jzeros[0,-1]\n",
    "\n",
    "fig, axs = plt.subplots(1, 2, figsize=(12, 6), dpi= 80, sharey=True)\n",
    "\n",
    "axs[0].set_title('$U_z$, f = ' + str(w/2/np.pi) + ' Hz')\n",
    "axs[0].plot(slow,np.real([u(p*w,w)[0] for p in slow]))\n",
    "axs[0].plot(slow,np.imag([u(p*w,w)[0] for p in slow]))\n",
    "axs[0].set_xlabel('p')\n",
    "\n",
    "axs[1].set_title('$U_r$, f = ' + str(w/2/np.pi) + ' Hz')\n",
    "axs[1].plot(slow,np.real([u(p*w,w)[1] for p in slow]))\n",
    "axs[1].plot(slow,np.imag([u(p*w,w)[1] for p in slow]))\n",
    "axs[1].set_xlabel('p')\n",
    "\n",
    "# frequency vector\n",
    "dw = 0.25\n",
    "nw = 800\n",
    "omega = 2*np.pi* np.arange(dw,dw*(nw+1),dw)\n",
    "# offset vector\n",
    "r = np.arange(0.025,2.1,0.025)\n",
    "\n",
    "# transfrom Z component\n",
    "tresp = []\n",
    "\n",
    "for w in omega:\n",
    "    inp = [u(k,w)[0] for k in jzeros[0]*pmax*w/jzeros[0,-1]]\n",
    "    rmax = jzeros[0,-1] /pmax /w\n",
    "    tranf = tlDHTR(inp, 0, r, rmax, jzeros[0])\n",
    "    tresp.append(tranf)\n",
    "    \n",
    "tresp = np.array(tresp).T"
   ]
  },
  {
   "cell_type": "code",
   "execution_count": 22,
   "metadata": {},
   "outputs": [
    {
     "data": {
      "text/plain": [
       "[<matplotlib.lines.Line2D at 0x113d2dbe0>]"
      ]
     },
     "execution_count": 22,
     "metadata": {},
     "output_type": "execute_result"
    },
    {
     "data": {
      "image/png": "[encoded data removed]",
      "text/plain": [
       "<Figure size 432x288 with 1 Axes>"
      ]
     },
     "metadata": {},
     "output_type": "display_data"
    }
   ],
   "source": [
    "taxis, trace = ftot(tresp[0],omega,10)\n",
    "plt.plot(taxis,trace)\n",
    "taxis, trace = ftot(tresp[int(len(tresp)/2)],omega,10)\n",
    "plt.plot(taxis,trace)\n",
    "taxis, trace = ftot(tresp[-1],omega,10)\n",
    "plt.plot(taxis,trace)"
   ]
  },
  {
   "cell_type": "code",
   "execution_count": 23,
   "metadata": {},
   "outputs": [],
   "source": [
    "gather = np.array([ftot(tresp[i],omega,15)[1] for i in range(len(tresp))])"
   ]
  },
  {
   "cell_type": "code",
   "execution_count": 24,
   "metadata": {},
   "outputs": [
    {
     "data": {
      "text/plain": [
       "(1, 0)"
      ]
     },
     "execution_count": 24,
     "metadata": {},
     "output_type": "execute_result"
    },
    {
     "data": {
      "image/png": "[encoded data removed]",
      "text/plain": [
       "<Figure size 640x480 with 1 Axes>"
      ]
     },
     "metadata": {},
     "output_type": "display_data"
    }
   ],
   "source": [
    "drange = [np.amin(r), np.amax(r), np.amax(taxis), np.amin(taxis)];\n",
    "vm = np.percentile(gather, 99)\n",
    "\n",
    "plt.figure(figsize=(8, 6), dpi= 80)\n",
    "plt.imshow(gather.T, cmap=\"Greys\", vmin=-vm, vmax=vm, aspect='auto', extent=drange)\n",
    "plt.ylim([1,0])"
   ]
  },
  {
   "cell_type": "code",
   "execution_count": 42,
   "metadata": {},
   "outputs": [],
   "source": [
    "# HT using the hankel package (so far no success)\n",
    "pmax = getpmax(layers,model_layers)\n",
    "nslow = 300\n",
    "dslow = pmax/nslow\n",
    "\n",
    "def u(k,w,pI=0.001): return tlResponseVforce(model_layers,model_thickness,k/w - pI*1j,w,zSource,zReceiver)[0]\n",
    "\n",
    "r = .5;\n",
    "\n",
    "omega = 2*np.pi* np.arange(1,101)/2\n",
    "tresp = []\n",
    "for w in omega:\n",
    "    ht = HankelTransform(nu=0,N=nslow,h=dslow * w)\n",
    "    inp_func = np.vectorize(lambda k : u(k, w))\n",
    "    tranf = ht.transform(inp_func, r, ret_err=False, inverse=True)\n",
    "    tresp.append(tranf)"
   ]
  },
  {
   "cell_type": "code",
   "execution_count": 43,
   "metadata": {},
   "outputs": [
    {
     "data": {
      "text/plain": [
       "[<matplotlib.lines.Line2D at 0x80cbd5f28>]"
      ]
     },
     "execution_count": 43,
     "metadata": {},
     "output_type": "execute_result"
    },
    {
     "data": {
      "image/png": "[encoded data removed]",
      "text/plain": [
       "<Figure size 432x288 with 1 Axes>"
      ]
     },
     "metadata": {},
     "output_type": "display_data"
    }
   ],
   "source": [
    "taxis,trace = ftot(tresp,omega,10)\n",
    "plt.plot(taxis,trace)"
   ]
  },
  {
   "cell_type": "code",
   "execution_count": null,
   "metadata": {},
   "outputs": [],
   "source": []
  }
 ],
 "metadata": {
  "kernelspec": {
   "display_name": "Python 3",
   "language": "python",
   "name": "python3"
  },
  "language_info": {
   "codemirror_mode": {
    "name": "ipython",
    "version": 3
   },
   "file_extension": ".py",
   "mimetype": "text/x-python",
   "name": "python",
   "nbconvert_exporter": "python",
   "pygments_lexer": "ipython3",
   "version": "3.6.5"
  }
 },
 "nbformat": 4,
 "nbformat_minor": 2
}
