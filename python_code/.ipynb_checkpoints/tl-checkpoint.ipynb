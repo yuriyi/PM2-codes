{
 "cells": [
  {
   "cell_type": "markdown",
   "metadata": {},
   "source": [
    "run `ipcluster start` prior to running the notebook if you want parallel functionality.\n",
    "\n",
    "alternatively, run `ipcluster nbextension enable` to enable the notebook extension\n",
    "\n",
    "requires `ipyparallel` package (`pip install ipyparallel`)"
   ]
  },
  {
   "cell_type": "code",
   "execution_count": 1,
   "metadata": {},
   "outputs": [],
   "source": [
    "import ipyparallel as ipp"
   ]
  },
  {
   "cell_type": "code",
   "execution_count": 2,
   "metadata": {},
   "outputs": [
    {
     "name": "stdout",
     "output_type": "stream",
     "text": [
      "Loading ThinLayer package\n"
     ]
    }
   ],
   "source": [
    "# import the package functions\n",
    "from ThinLayer import fkmod as tl\n",
    "from ThinLayer import rockphysics as rp\n",
    "import numpy as np\n",
    "import matplotlib.pyplot as plt\n",
    "%matplotlib inline\n",
    "from IPython.display import clear_output"
   ]
  },
  {
   "cell_type": "code",
   "execution_count": 3,
   "metadata": {},
   "outputs": [
    {
     "name": "stdout",
     "output_type": "stream",
     "text": [
      "importing numpy on engine(s)\n",
      "importing inv from numpy.linalg on engine(s)\n",
      "importing special from scipy on engine(s)\n",
      "importing time on engine(s)\n",
      "importing sys on engine(s)\n",
      "importing InteractiveShell from IPython.core.interactiveshell on engine(s)\n",
      "importing fkmod from ThinLayer on engine(s)\n",
      "importing rockphysics from ThinLayer on engine(s)\n"
     ]
    }
   ],
   "source": [
    "c = ipp.Client()\n",
    "v=c[:]\n",
    "path = %pwd\n",
    "v['path'] = path\n",
    "\n",
    "# parallel dependencies\n",
    "with v.sync_imports():\n",
    "    import numpy\n",
    "    from numpy.linalg import inv\n",
    "    from scipy import special\n",
    "    import time, sys\n",
    "    %px sys.path.append(path)\n",
    "    from ThinLayer import fkmod\n",
    "    from ThinLayer import rockphysics\n",
    "    \n",
    "%px np = numpy\n",
    "%px scs = special\n",
    "%px tl = fkmod\n",
    "%px rp = rockphysics"
   ]
  },
  {
   "cell_type": "markdown",
   "metadata": {},
   "source": [
    "# Numerical example"
   ]
  },
  {
   "cell_type": "markdown",
   "metadata": {},
   "source": [
    "### define the model"
   ]
  },
  {
   "cell_type": "markdown",
   "metadata": {},
   "source": [
    "Define dictionary `model` to store the model/modeling parameters: layers, thickness, source and receiver depths, source frequency, frequency and offset vector, number of integration points etc.\n",
    "\n",
    "dictionary `layers` is a pool of frequency-independent media to select from\n",
    "\n",
    "dictionary `layersF` is a pool of frequency-dependent media to select from\n",
    "\n",
    "the elastic constants correspond to an VTI medium and are to be given in order ($c_{11}, c_{13}, c_{33}, c_{44}, \\rho$).\n",
    "\n",
    "dictionary `model_layers` is a sequence of layers used in modeling\n",
    "\n",
    "dictionary `model_thickness` is a sequence of layers thickness"
   ]
  },
  {
   "cell_type": "code",
   "execution_count": 4,
   "metadata": {},
   "outputs": [],
   "source": [
    "def create_model(Nrep, D= 0.5, l= 100):\n",
    "    ## frequency-independent layers\n",
    "    layers = {\n",
    "    \"layer 1\":[22.56, 12.38, 17.35, 3.15, 2.38],\n",
    "    \"layer 2\":[26.73, 12.51, 26.73, 7.11, 2.22]\n",
    "    };\n",
    "\n",
    "    ## frequency-dependent layers\n",
    "    #  l defines the fracture length ratio\n",
    "    den = 2.15 # density\n",
    "    layersF = {\n",
    "    'layer P': lambda w: np.append(rp.AnisSquirtModel(10.6957,21.9734,0.28,2.4,0.02,0,1e-5,2e-5,w,0)[:-1],den),\n",
    "    'layer F': lambda w: np.append(rp.AnisSquirtModel(10.6957,21.9734,0.28,2.4,0.02,0.03,1e-5,2e-5,w,l)[:-1],den)\n",
    "    }\n",
    "    \n",
    "    ## crete a thin-bedded sequence repeated Nrep times\n",
    "    #  with a total thickness of 0.5\n",
    "    top = ['layer P', 'layer F']\n",
    "    seq = ['layer P', 'layer F'] * Nrep\n",
    "    bot = ['layer P']\n",
    "    model_layers = top + seq + bot\n",
    "    thickness = np.random.random(2*Nrep+1)\n",
    "    thickness = thickness/np.sum(thickness) * D\n",
    "    thickness = np.r_[0,thickness,0]\n",
    "    \n",
    "    # ouput model dictionary\n",
    "    model={\n",
    "    \"layers\": layers,                               # pool of frequency-independent layers (constants)\n",
    "    \"layersF\": layersF,                             # pool of frequency-dependent layers (functions)\n",
    "    \"model_layers\": model_layers,                   # sequence of layers\n",
    "    \"model_thickness\":  thickness,                  # sequence of thicknesses\n",
    "    \"zSource\":.4,                                   # source depth\n",
    "    \"zReceiver\":.8,                                 # depth of the first boundary\n",
    "    \"srcw\": 15,                                     # source frequency\n",
    "    \"omega\": 2*np.pi*np.arange(0.5,50.5,0.5),       # frequency vector\n",
    "    \"r\": np.arange(0.05,2.05,0.05),                 # offset vector\n",
    "    \"nslow\": 1000                                   # number of integration points\n",
    "    }\n",
    "    \n",
    "    return model"
   ]
  },
  {
   "cell_type": "code",
   "execution_count": 5,
   "metadata": {},
   "outputs": [
    {
     "name": "stdout",
     "output_type": "stream",
     "text": [
      "['layer P', 'layer F', 'layer P', 'layer F', 'layer P'] [0.         0.07037067 0.25797406 0.17165527 0.        ]\n"
     ]
    }
   ],
   "source": [
    "# create the model with 1 repetition\n",
    "model = create_model(1)\n",
    "print(model['model_layers'],model['model_thickness'])"
   ]
  },
  {
   "cell_type": "markdown",
   "metadata": {},
   "source": [
    "## Sample gather"
   ]
  },
  {
   "cell_type": "code",
   "execution_count": 6,
   "metadata": {},
   "outputs": [
    {
     "name": "stdout",
     "output_type": "stream",
     "text": [
      "frequency dependence\n"
     ]
    }
   ],
   "source": [
    "Uz, elapsed = tl.FKmodeling_par(v, model)\n",
    "print(str(elapsed)+' sec')"
   ]
  },
  {
   "cell_type": "code",
   "execution_count": 7,
   "metadata": {},
   "outputs": [],
   "source": [
    "taxis = tl.ftot(Uz[0],model['omega'],model['srcw'])[0]\n",
    "gather = np.array([tl.ftot(Uz[i],model['omega'],model['srcw'])[1] for i in range(len(Uz))])"
   ]
  },
  {
   "cell_type": "code",
   "execution_count": 8,
   "metadata": {},
   "outputs": [
    {
     "data": {
      "text/plain": [
       "(1, 0)"
      ]
     },
     "execution_count": 8,
     "metadata": {},
     "output_type": "execute_result"
    },
    {
     "data": {
      "image/png": "[encoded data removed]",
      "text/plain": [
       "<Figure size 640x480 with 1 Axes>"
      ]
     },
     "metadata": {},
     "output_type": "display_data"
    }
   ],
   "source": [
    "drange = [np.amin(model['r']), np.amax(model['r']), np.amax(taxis), np.amin(taxis)];\n",
    "vm = np.percentile(gather, 99)\n",
    "\n",
    "plt.figure(figsize=(8, 6), dpi= 80)\n",
    "plt.imshow(gather.T, cmap=\"Greys\", vmin=-vm, vmax=vm, aspect='auto', extent=drange)\n",
    "plt.ylim([1,0])"
   ]
  }
 ],
 "metadata": {
  "kernelspec": {
   "display_name": "Python 3",
   "language": "python",
   "name": "python3"
  },
  "language_info": {
   "codemirror_mode": {
    "name": "ipython",
    "version": 3
   },
   "file_extension": ".py",
   "mimetype": "text/x-python",
   "name": "python",
   "nbconvert_exporter": "python",
   "pygments_lexer": "ipython3",
   "version": "3.6.5"
  }
 },
 "nbformat": 4,
 "nbformat_minor": 2
}
