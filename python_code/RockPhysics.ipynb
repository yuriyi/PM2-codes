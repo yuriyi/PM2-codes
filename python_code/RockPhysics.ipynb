{
 "cells": [
  {
   "cell_type": "code",
   "execution_count": 220,
   "metadata": {},
   "outputs": [],
   "source": [
    "import numpy as np\n",
    "from numpy.linalg import inv\n",
    "Pi = np.pi\n",
    "sqrt = np.sqrt\n",
    "sin = np.sin\n",
    "cos = np.cos"
   ]
  },
  {
   "cell_type": "code",
   "execution_count": 19,
   "metadata": {},
   "outputs": [],
   "source": [
    "def rpFluidModulus(K1, K2, s1, q):\n",
    "    return((q*(1 - s1) + s1)/((q*(1 - s1))/K2 + s1/K1))\n",
    "def rpBrooksCorey(l, sw, snw,s):\n",
    "    def seff(s):\n",
    "        return(np.clip((s-sw)/(1-sw-snw),0,1))\n",
    "    def kw(s):\n",
    "        return(np.clip(seff(s)**((2+3*l)/l),0,1))\n",
    "    def knw(s):\n",
    "        return(np.clip(((1-seff(s))**2*(1-seff(s)**((2+l)/l))),0,1))\n",
    "    return([kw(s),knw(s)])\n",
    "def rpViscosityMix(h1, h2, q, l, sw, snw,s):\n",
    "    k = rpBrooksCorey(l, sw, snw,s)\n",
    "    return((s + q*(1 - s))/(k[0]/h1 + q*(k[1]/h2)))\n",
    "def rpFreqMix(h1, h2, q, l, sw, snw,s):\n",
    "    return(h1/rpViscosityMix(h1, h2, q, l, sw, snw,s))"
   ]
  },
  {
   "cell_type": "code",
   "execution_count": 208,
   "metadata": {},
   "outputs": [],
   "source": [
    "def rpGassmannModel(Kd, mu, Km, phi, Kf):\n",
    "    return(Kd + (1 - Kd/Km)**2/(phi/Kf - Kd/Km**2 + (1 - phi)/Km))\n",
    "def rpSquirtModel(Kd, mu, Km, phi, Kf, ee, aspectRatio, tau, w, eta):\n",
    "    fc = (4.*aspectRatio*Pi*ee)/3.\n",
    "    fp = phi - fc\n",
    "    m = -(16*Km**2*fc +3*aspectRatio*Km*Pi*(4*Kd + Km*(-4 + 5*fp)) + \n",
    "          sqrt(Km**2*(256*Km**2*fc**2 + 9*aspectRatio**2*Pi**2*\n",
    "                      (4*Kd - 4*Km + 3*Km*fp)**2 + \n",
    "                      96*aspectRatio*Km*Pi*fc*(2*Kd - 2*Km + 3*Km*fp))))/(8.*aspectRatio*Pi*(Kd + Km*(-1 + fp)))\n",
    "    nu = (3*Km - 2*m)/(2.*(3*Km + m))\n",
    "    sc =(aspectRatio*m*Pi)/(2.*(1 - (3*Km - 2*m)/(2.*(3.*Km + m))))\n",
    "    Kc = sc/Kf\n",
    "    Kp = (4*m)/(3*Kf)\n",
    "    gam = (3*aspectRatio*fp*(1 + Kp)*Pi)/(8.*fc*(1 + Kc)*(1 - (3*Km - 2*m)/(2.*(3*Km + m))))\n",
    "    gam2 = (3*Km*gam + 4*m*gam)/(9*Km + 9*Km*Kp)\n",
    "    mhf =(4*fc*m*((2*(1 - (3*Km - 2*m)/(2.*(3*Km + m))))/(aspectRatio*Pi) + (6 - 6*nu)/(2*aspectRatio*Pi - aspectRatio*nu*Pi) - \n",
    "                  (6*(-1 + nu)*(1j*m + eta*w))/(-2*eta*(-1 + nu)*w + aspectRatio*(-2 + nu)*Pi*(1j*m + eta*w)) - \n",
    "                  (2*(1 - (3*Km - 2*m)/(2.*(3*Km + m)))* (Kc + 1/(1 + 1j*tau*w)))/(aspectRatio*(1 + Kc)*Pi)))/15.\n",
    "    Klf = Kd + \\\n",
    "        fp*(Km*((1 + (3*Km)/(4.*m)) + \\\n",
    "        fc*(1 + (2*Km*(1 - (3*Km - 2*m)/(2.*(3*Km + m))))/(aspectRatio*m*Pi)))*(1 + 3*(1 + Kc)*gam2))/((1 + Kc)*(1 + gam))\n",
    "    Khf = fp*((gam - 3*gam2*(1 + Kc))*Km*(-((1 + (3*Km)/(4.*m))) + \\\n",
    "        fc*gam*(1 + (2*Km*(1 - (3*Km - 2*m)/(2.*(3*Km + m))))/(aspectRatio*m*Pi))))/(gam*(1 +\\\n",
    "        gam)*(1 + Kc)*(1 - (1j*(1 + gam))/(gam*tau*w)))\n",
    "    return([Klf+Khf, mu+mhf])"
   ]
  },
  {
   "cell_type": "code",
   "execution_count": 206,
   "metadata": {},
   "outputs": [],
   "source": [
    "def rpAnisSquirtModel(lam, m, f, Kf, ee, eef, aspectRatio, tau, w, ratio):\n",
    "    fc = (4.*aspectRatio*Pi*ee)/3.\n",
    "    ff = (4.*aspectRatio*Pi*eef)/3.\n",
    "    fp = f - fc - ff\n",
    "    nu = lam/(2.*(lam + m))\n",
    "    sc =(aspectRatio*m*Pi)/(2.*(1 - nu))\n",
    "    Kc = sc/Kf\n",
    "    Kp = (4*m)/(3*Kf)\n",
    "    gam = (3*fp*(1 + Kp)*sc)/(4.*fc*(1 + Kc)*m)\n",
    "    gam2 = (gam*(1 - nu))/((1 + Kp)*(1 + nu))\n",
    "    io = fc/(fc + aspectRatio*fp)\n",
    "    bet = io*ff/fc\n",
    "    tauf = ratio*tau\n",
    "    D1 = (io*(-1j - bet*tau*w + tauf*w) + 3*gam2*(1 + Kc)*(io*(1j + bet*tau*w - tauf*w) + \\\n",
    "        (-1j + tau*w)*(1 + 1j*tauf*w)))/(3.*(1 + Kc)*(bet*(-1j + (1 + (-1 + gam)*io)*tau*w) - \\\n",
    "        (-1j + tauf*w)*(-io + gam*(-1 + io - 1j*tau*w))))\n",
    "    D2 =  (bet*(-1j + tau*w))/((1 + Kc)*(bet*(-1j + \\\n",
    "        (1 + (-1 + gam)*io)*tau*w) -(-1j + tauf*w)*(-io + gam*(-1 + io - 1j*tau*w))))\n",
    "    G1 = (tau*w)/((1 + Kc)*(-1j + tau*w))\n",
    "    G2 = (1j/3*(1j + bet*tau*w - tauf*w)*(io + 1j*gam*io*tau*w - \\\n",
    "        3*1j*gam2*(-1 + io)*(1 + Kc)*(-1j + tau*w)))/((1 + Kc)*\\\n",
    "        (-1j + tau*w)*(bet*(-1j + (1 + (-1 + gam)*io)*tau*w) - \\\n",
    "        (-1j + tauf*w)*(-io + gam*(-1 + io - 1j*tau*w))))\n",
    "    G3 = (bet*(-1j + gam*tau*w))/((1 + Kc)*(bet*(-1j + (1 + (-1 + gam)*io)*tau*w) - \\\n",
    "        (-1j + tauf*w)*(-io + gam*(-1 + io - 1j*tau*w))))\n",
    "    F1 = (-3*gam2*(-1 + io)*(1 + Kc)*(-1j + tau*w) + \\\n",
    "        io*(-1j + gam*tau*w))/(3.*(1 + Kc)*(bet*(-1j + (1 + (-1 + gam)*io)*tau*w) - \\\n",
    "        (-1j + tauf*w)*(-io + gam*(-1 + io - 1j*tau*w))))\n",
    "    F2 = (tauf*w*(gam + io - gam*io + 1j*gam*tau*w) + \\\n",
    "        bet*(-1j + (1 + (-1 + gam)*io)*tau*w))/((1 + Kc)*(bet*(-1j + (1 + (-1 + gam)*io)*tau*w) - \\\n",
    "        (-1j + tauf*w)*(-io + gam*(-1 + io - 1j*tau*w))))\n",
    "    k = lam + (2*m)/3.\n",
    "    L2 = k**2 + (16*m**2)/45.\n",
    "    L4 = k**2 - (8*m**2)/45.\n",
    "    c11 = lam + 2*m - \\\n",
    "        fp*(-((3*D1*k + D2*lam)*(1 + (3*k)/(4.*m))) + \\\n",
    "            (3*(1 - nu)*(3*lam**2 + 4*lam*m + (m**2*(36 + 20*nu))/(7 - 5*nu)))/(4.*m*(1 + nu))) - \\\n",
    "        fc*((32*m*(1 - nu))/(15.*aspectRatio*(2 - nu)*Pi) - \\\n",
    "            G2*(3*k + (3*k**2)/sc) - G1*(k + L2/sc) - G3*(lam + (k*lam)/sc) + L2/sc) - \\\n",
    "        ff*(-3*F1*k*(1 + lam/sc) - F2*lam*(1 + lam/sc) + lam**2/sc)\n",
    "    c33 = lam + 2*m - \\\n",
    "        fp*(-((1 + (3*k)/(4.*m))*(3*D1*k + D2*(lam + 2*m))) + \\\n",
    "            (3*(1 - nu)*(3*lam**2 + 4*lam*m + (m**2*(36 + 20*nu))/(7 - 5*nu)))/(4.*m*(1 + nu))) - \\\n",
    "        fc*((32*m*(1 - nu))/(15.*aspectRatio*(2 - nu)*Pi) - \\\n",
    "            G2*(3*k + (3*k**2)/sc) - G1*(k + L2/sc) - G3*(lam + 2*m + (k*(lam + 2*m))/sc) + L2/sc) - \\\n",
    "        ff*(-3*F1*k*(1 + (lam + 2*m)/sc) -  F2*(lam + 2*m)*(1 + (lam + 2*m)/sc) + (lam + 2*m)**2/sc)\n",
    "    c44 = m - \\\n",
    "        fp*(15*m*(1 - nu))/(7 - 5*nu) - \\\n",
    "        fc*((8*m*(1 - nu))/(5.*aspectRatio*(2 - nu)*Pi) + (4*(1 - G1)*m**2)/(15.*sc)) - \\\n",
    "        ff*(4*m*(1 - nu))/(aspectRatio*(2 - nu)*Pi)\n",
    "    c12 = lam - \\\n",
    "        fp*(-((3*D1*k + D2*lam)*(1 + (3*k)/(4.*m))) + \\\n",
    "            (3*(1 - nu)*(3*lam**2 + 4*lam*m - (4*m**2*(1 + 5*nu))/(7 - 5*nu)))/(4.*m*(1 + nu))) - \\\n",
    "        fc*((-16*m*(1 - nu))/(15.*aspectRatio*(2 - nu)*Pi) - \\\n",
    "            G2*(3*k + (3*k**2)/sc) - G1*(k + L4/sc) - G3*(lam + (k*lam)/sc) + L4/sc) - \\\n",
    "        ff*(-3*F1*k*(1 + lam/sc) - F2*lam*(1 + lam/sc) + lam**2/sc)\n",
    "    c13 = lam - \\\n",
    "        fp*(-((1 + (3*k)/(4.*m))*(3*D1*k + D2*(lam + m))) + \\\n",
    "            (3*(1 - nu)*(3*lam**2 + 4*lam*m - (4*m**2*(1 + 5*nu))/(7 - 5*nu)))/(4.*m*(1 + nu))) - \\\n",
    "        fc*((-16*m*(1 - nu))/(15.*aspectRatio*(2 - nu)*Pi) - \\\n",
    "            G2*(3*k + (3*k**2)/sc) - G1*(k + L4/sc) - G3*(lam + m + (k*(lam + m))/sc) + L4/sc) - \\\n",
    "        ff*(-3*F1*k*(1 + (lam + m)/sc) - F2*(lam + m + (lam*(lam + 2*m))/sc) + (lam*(lam + 2*m))/sc)\n",
    "    return([c11, c13, c33, c44, c12])"
   ]
  },
  {
   "cell_type": "code",
   "execution_count": 217,
   "metadata": {},
   "outputs": [],
   "source": [
    "def rpAnisHTIVelocities(c11, c33, c44, c12, c13, rho, theta):\n",
    "    # Vs1, Vs2 add\n",
    "    H = 4*(c13 + c44)**2*cos(theta)**2*sin(theta)**2 + (-((c33 - c44)*cos(theta)**2) + (c11 - c44)*sin(theta)**2)**2\n",
    "    Vp = sqrt((c11*sin(theta)**2 + c33*cos(theta)**2+c44 +sqrt(H))/(2*rho))\n",
    "    return(Vp)"
   ]
  },
  {
   "cell_type": "code",
   "execution_count": 221,
   "metadata": {},
   "outputs": [
    {
     "data": {
      "text/plain": [
       "(0.5278547112130603+0.007030949896490306j)"
      ]
     },
     "execution_count": 221,
     "metadata": {},
     "output_type": "execute_result"
    }
   ],
   "source": [
    "[c11, c33, c44, c12, c13]=rpAnisSquirtModel(1,2,.3,1,.01,.03,.00001,1,1,10)\n",
    "rho=10\n",
    "theta = 0\n",
    "rpAnisHTIVelocities(c11, c33, c44, c12, c13, rho, theta)"
   ]
  },
  {
   "cell_type": "code",
   "execution_count": 223,
   "metadata": {},
   "outputs": [
    {
     "data": {
      "image/png": "[encoded data removed]",
      "text/plain": [
       "<Figure size 432x288 with 1 Axes>"
      ]
     },
     "metadata": {},
     "output_type": "display_data"
    }
   ],
   "source": [
    "fig, ax = plt.subplots()\n",
    "\n",
    "dt = 0.01\n",
    "t = np.arange(dt, 1.0, dt)\n",
    "\n",
    "ax.semilogy(t, rpFreqMix(10, 1, 1, 1, 0, 0, t))\n",
    "ax.grid()\n",
    "\n",
    "plt.show()"
   ]
  }
 ],
 "metadata": {
  "kernelspec": {
   "display_name": "Python 3",
   "language": "python",
   "name": "python3"
  },
  "language_info": {
   "codemirror_mode": {
    "name": "ipython",
    "version": 3
   },
   "file_extension": ".py",
   "mimetype": "text/x-python",
   "name": "python",
   "nbconvert_exporter": "python",
   "pygments_lexer": "ipython3",
   "version": "3.6.8"
  }
 },
 "nbformat": 4,
 "nbformat_minor": 2
}
