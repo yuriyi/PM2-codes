{
 "cells": [
  {
   "cell_type": "code",
   "execution_count": 822,
   "metadata": {},
   "outputs": [],
   "source": [
    "import numpy as np\n",
    "from numpy.linalg import inv"
   ]
  },
  {
   "cell_type": "markdown",
   "metadata": {},
   "source": [
    "Define dictionary `layer` assigning a layer label with fixed, potentially complex elastic constants and density. The elastic constants correspond to an VTI medium and are to be given in order ($c_{11}, c_{13}, c_{33}, c_{44}, \\rho$)"
   ]
  },
  {
   "cell_type": "code",
   "execution_count": 823,
   "metadata": {},
   "outputs": [],
   "source": [
    "layers={\n",
    "    \"layer 1\":(22.56, 12.38, 17.35, 3.15, 2.38),\n",
    "    \"layer 2\":(26.73, 12.51, 26.73, 7.11, 2.22),\n",
    "    \"layer 3\":(11.25, 6.066, 11.25, 2.592, 1.8),\n",
    "    \"layer 4\":(11.25 + 1j, 6.066, 26.25, 2.592, 1.8),\n",
    "    \"layer 5\":(11.25 + 1j, 2.066, 19.25, 2.592, 1.8),\n",
    "    \"layer 6\":(11.25 + 1j, 6.066, 23.25, 2.592, 1.8)\n",
    "};"
   ]
  },
  {
   "cell_type": "code",
   "execution_count": 3,
   "metadata": {
    "scrolled": true
   },
   "outputs": [
    {
     "data": {
      "text/plain": [
       "(22.56, 12.38, 17.35, 3.15, 2.38)"
      ]
     },
     "execution_count": 3,
     "metadata": {},
     "output_type": "execute_result"
    }
   ],
   "source": [
    "layers[\"layer 1\"]"
   ]
  },
  {
   "cell_type": "code",
   "execution_count": 824,
   "metadata": {},
   "outputs": [],
   "source": [
    "def tlQLmatrices(layer, p):\n",
    "    # based on Ursin and Stovas, Geophysics (2002)\n",
    "    [c11, c13, c33, c44, d]=layers[layer];\n",
    "    a0 = sqrt(c33/d);\n",
    "    b0 = sqrt(c44/d);\n",
    "    s0 = 1-c44/c33;\n",
    "    dD = (c13 - c33 + 2*c44)/c33;\n",
    "    eta = (c11*c33 - (c13 + 2*c44)**2)/(2*c33**2);\n",
    "    R1 = 2*(1 - p**2*b0**2)*(dD + 2*p**2*a0**2*eta)**2;\n",
    "    R2 = s0 + 2*p**2*b0**2*dD - 2*p**2*a0**2*(1 - 2*p**2*b0**2)*eta;\n",
    "    R = R1/(R2 + sqrt(R2**2 + 2*p**2*b0**2*R1));\n",
    "    Sa = 2*dD + 2*p**2*a0**2*eta + R\n",
    "    Sb = 2*(1 - p**2*b0**2)*a0**2/b0**2*eta - R\n",
    "    q1 = 1/a0**2 - p**2 - p**2*Sa;\n",
    "    q2 = 1/b0**2 - p**2 - p**2*Sb;\n",
    "    qa = sqrt(q1.real + 1j*abs(q1.imag));\n",
    "    qb = sqrt(q2.real + 1j*abs(q2.imag));\n",
    "    d2 = sqrt((s0 + dD)/(s0 + Sa));\n",
    "    d3 = 2*b0**2*(s0 + \n",
    "     1/2*(Sa + dD))/(s0 + dD);\n",
    "    d4 = sqrt((s0 - p**2*b0**2*(s0 + Sb))/((1 - p**2*b0**2*(1 + Sb))*(s0 + dD)));\n",
    "    d5 = (s0 - 2*p**2*b0**2*(s0 + 1/2*(Sb + dD)))/(s0 + dD);\n",
    "    d1 = 1/sqrt(p**2*d3 + d5);\n",
    "    L1 = d1*np.array([[d2*sqrt(qa/d), 1/d4*p/sqrt(d*qb)],\n",
    "                      [d3*d2*p*sqrt(d*qa), -d5/d4*sqrt(d/qb)]\n",
    "                     ], dtype = np.complex_);\n",
    "    L2 = d1*np.array([[d5/d2*sqrt(d/qa), d3*d4*p*sqrt(d*qb)],\n",
    "                      [1/d2*p/sqrt(d*qa), -d4*sqrt(qb/d)]\n",
    "                     ], dtype = np.complex_);\n",
    "    return(np.array([diagflat([qa,qb]),L1,L2]))\n"
   ]
  },
  {
   "cell_type": "code",
   "execution_count": 825,
   "metadata": {},
   "outputs": [
    {
     "data": {
      "text/plain": [
       "array([[[ 0.35418607+0.j,  0.        +0.j],\n",
       "        [ 0.        +0.j,  0.85905696+0.j]],\n",
       "\n",
       "       [[ 0.38519236+0.j,  0.07693826+0.j],\n",
       "        [ 0.25570415+0.j, -1.60740115+0.j]],\n",
       "\n",
       "       [[ 2.516156  +0.j,  0.40026818+0.j],\n",
       "        [ 0.12043581+0.j, -0.6029634 +0.j]]])"
      ]
     },
     "execution_count": 825,
     "metadata": {},
     "output_type": "execute_result"
    }
   ],
   "source": [
    "tlQLmatrices(\"layer 1\", .1)"
   ]
  },
  {
   "cell_type": "code",
   "execution_count": 168,
   "metadata": {},
   "outputs": [],
   "source": [
    "def tlLayerReflectionTransmission(layer1, layer2, p):\n",
    "    # based on Ursin and Stovas, Geophysics (2002)\n",
    "    # no need to use slownesses. Get the L matrices only\n",
    "    # and use equations B-1, B-2 to calculate T, R\n",
    "    [L1t, L2t] = tlQLmatrices(layer1, p)[1:5];\n",
    "    [L1b, L2b] = tlQLmatrices(layer2, p)[1:5];\n",
    "    \n",
    "    # C and D as defined in eq. B-2\n",
    "    C = np.dot(L2b.T, L1t);\n",
    "    D = np.dot(L1b.T, L2t);\n",
    "    \n",
    "    # Reflection and transmission matrices of a single interface\n",
    "    trans = 2*inv(C + D).T\n",
    "    refl = np.dot((C-D).T,trans/2)\n",
    "    \n",
    "    return(np.array([trans,refl]))"
   ]
  },
  {
   "cell_type": "code",
   "execution_count": 169,
   "metadata": {},
   "outputs": [
    {
     "data": {
      "text/plain": [
       "array([[[ 0.97989791+0.j,  0.01004981+0.j],\n",
       "        [-0.01690589+0.j,  0.99439359+0.j]],\n",
       "\n",
       "       [[-0.18750511+0.j, -0.06600089+0.j],\n",
       "        [-0.06600089+0.j,  0.08200169+0.j]]])"
      ]
     },
     "execution_count": 169,
     "metadata": {},
     "output_type": "execute_result"
    }
   ],
   "source": [
    "tlLayerReflectionTransmission(\"layer 1\",\"layer 3\",.2)"
   ]
  },
  {
   "cell_type": "code",
   "execution_count": 819,
   "metadata": {},
   "outputs": [],
   "source": [
    " def tlReflectivity(layers, thicknesses, p, w):\n",
    "    # based on Ursin and Stovas, Geophysics (2002)\n",
    "    # Recursion is eq. 20\n",
    "    n_of_layers = len(layers)-1;\n",
    "    \n",
    "    # QL matrices for layer stack\n",
    "    QL = [tlQLmatrices(i,p) for i in layers];\n",
    "    \n",
    "    # Pairwise reflection transmission for layer stack\n",
    "    RT = [tlLayerReflectionTransmission(layers[i],layers[i+1], p) for i in range(n_of_layers)]\n",
    "    \n",
    "    # Phase propagator for layer stack\n",
    "    phase = [diagflat(exp(1j*w*i[0]*diag(i[1]))) for i in zip(thicknesses,[item[0] for item in QL])]\n",
    "    \n",
    "    # Recursive calculation of reflection response\n",
    "    def rec(n):\n",
    "        if n == n_of_layers-1:\n",
    "            return(zeros(shape=(2,2), dtype=np.complex_))\n",
    "        else:\n",
    "            inv_mat = inv(identity(2, dtype=np.complex_) + dot(RT[n+1][1],rec(n+1)))\n",
    "            inv_t = dot(transpose(RT[n+1][0]) , dot(rec(n+1) , dot(inv_mat , RT[n+1][0])))\n",
    "            return(\n",
    "                dot(\n",
    "                    dot(\n",
    "                        phase[n + 1],\n",
    "                       RT[n + 1][1] + inv_t\n",
    "                    )\n",
    "                        ,phase[n + 1]\n",
    "                   )\n",
    "            )\n",
    "    return(rec(-1))"
   ]
  },
  {
   "cell_type": "code",
   "execution_count": 821,
   "metadata": {},
   "outputs": [
    {
     "data": {
      "text/plain": [
       "63.16480337100802"
      ]
     },
     "execution_count": 821,
     "metadata": {},
     "output_type": "execute_result"
    }
   ],
   "source": [
    "timeit.timeit('[tlReflectivity([\"layer 1\",\"layer 2\", \"layer 5\", \"layer 2\", \"layer 5\",  \"layer 3\",\"layer 6\"],[3,2,5,4,3,4,12],0.2,i) for i in range(100)]', 'from __main__ import tlReflectivity, tlQLmatrices, layers', number=100)"
   ]
  },
  {
   "cell_type": "code",
   "execution_count": 820,
   "metadata": {},
   "outputs": [
    {
     "data": {
      "text/plain": [
       "array([[ 0.20813128+0.00953675j, -0.00374497-0.01095699j],\n",
       "       [-0.00374497-0.01095699j,  0.34048943+0.00586548j]])"
      ]
     },
     "execution_count": 820,
     "metadata": {},
     "output_type": "execute_result"
    }
   ],
   "source": [
    "tlReflectivity([\"layer 1\", \"layer 3\", \"layer 4\", \"layer 6\",\"layer 5\", \"layer 6\",\"layer 2\"],[0,.4,.1,.2,.3,.2,0],1,1)"
   ]
  }
 ],
 "metadata": {
  "kernelspec": {
   "display_name": "Python 3",
   "language": "python",
   "name": "python3"
  },
  "language_info": {
   "codemirror_mode": {
    "name": "ipython",
    "version": 3
   },
   "file_extension": ".py",
   "mimetype": "text/x-python",
   "name": "python",
   "nbconvert_exporter": "python",
   "pygments_lexer": "ipython3",
   "version": "3.6.8"
  }
 },
 "nbformat": 4,
 "nbformat_minor": 2
}
